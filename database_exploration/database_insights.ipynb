{
 "cells": [
  {
   "cell_type": "markdown",
   "metadata": {},
   "source": [
    "# Import Libraries"
   ]
  },
  {
   "cell_type": "code",
   "execution_count": 17,
   "metadata": {},
   "outputs": [],
   "source": [
    "from pyspark.sql import SparkSession\n",
    "from pyspark.sql.functions import col, when"
   ]
  },
  {
   "cell_type": "markdown",
   "metadata": {},
   "source": [
    "# Initialize a Spark session"
   ]
  },
  {
   "cell_type": "code",
   "execution_count": 2,
   "metadata": {},
   "outputs": [
    {
     "name": "stderr",
     "output_type": "stream",
     "text": [
      "25/03/15 16:15:03 WARN Utils: Your hostname, Ubuntu24 resolves to a loopback address: 127.0.1.1; using 10.0.2.15 instead (on interface enp0s3)\n",
      "25/03/15 16:15:03 WARN Utils: Set SPARK_LOCAL_IP if you need to bind to another address\n",
      "WARNING: An illegal reflective access operation has occurred\n",
      "WARNING: Illegal reflective access by org.apache.spark.unsafe.Platform (file:/home/vinicius/anaconda3/envs/pysparkenv/lib/python3.13/site-packages/pyspark/jars/spark-unsafe_2.12-3.1.2.jar) to constructor java.nio.DirectByteBuffer(long,int)\n",
      "WARNING: Please consider reporting this to the maintainers of org.apache.spark.unsafe.Platform\n",
      "WARNING: Use --illegal-access=warn to enable warnings of further illegal reflective access operations\n",
      "WARNING: All illegal access operations will be denied in a future release\n",
      "25/03/15 16:15:04 WARN NativeCodeLoader: Unable to load native-hadoop library for your platform... using builtin-java classes where applicable\n",
      "Using Spark's default log4j profile: org/apache/spark/log4j-defaults.properties\n",
      "Setting default log level to \"WARN\".\n",
      "To adjust logging level use sc.setLogLevel(newLevel). For SparkR, use setLogLevel(newLevel).\n"
     ]
    }
   ],
   "source": [
    "# Initialize a Spark session\n",
    "spark = SparkSession.builder.appName(\"BreweryDataPipeline\").getOrCreate()"
   ]
  },
  {
   "cell_type": "code",
   "execution_count": 3,
   "metadata": {},
   "outputs": [
    {
     "data": {
      "text/html": [
       "\n",
       "            <div>\n",
       "                <p><b>SparkSession - in-memory</b></p>\n",
       "                \n",
       "        <div>\n",
       "            <p><b>SparkContext</b></p>\n",
       "\n",
       "            <p><a href=\"http://10.0.2.15:4040\">Spark UI</a></p>\n",
       "\n",
       "            <dl>\n",
       "              <dt>Version</dt>\n",
       "                <dd><code>v3.1.2</code></dd>\n",
       "              <dt>Master</dt>\n",
       "                <dd><code>local[*]</code></dd>\n",
       "              <dt>AppName</dt>\n",
       "                <dd><code>BreweryDataPipeline</code></dd>\n",
       "            </dl>\n",
       "        </div>\n",
       "        \n",
       "            </div>\n",
       "        "
      ],
      "text/plain": [
       "<pyspark.sql.session.SparkSession at 0x78bd2c2b3770>"
      ]
     },
     "execution_count": 3,
     "metadata": {},
     "output_type": "execute_result"
    }
   ],
   "source": [
    "spark"
   ]
  },
  {
   "cell_type": "markdown",
   "metadata": {},
   "source": [
    "## Data Base Insights"
   ]
  },
  {
   "cell_type": "code",
   "execution_count": 4,
   "metadata": {},
   "outputs": [
    {
     "name": "stderr",
     "output_type": "stream",
     "text": [
      "                                                                                "
     ]
    }
   ],
   "source": [
    "df = spark.read.json(\"data_architecture/bronze_layer_raw_data.json\")"
   ]
  },
  {
   "cell_type": "code",
   "execution_count": 32,
   "metadata": {},
   "outputs": [
    {
     "data": {
      "text/plain": [
       "50"
      ]
     },
     "execution_count": 32,
     "metadata": {},
     "output_type": "execute_result"
    }
   ],
   "source": [
    "df.count()"
   ]
  },
  {
   "cell_type": "code",
   "execution_count": 5,
   "metadata": {},
   "outputs": [
    {
     "name": "stdout",
     "output_type": "stream",
     "text": [
      "root\n",
      " |-- address_1: string (nullable = true)\n",
      " |-- address_2: string (nullable = true)\n",
      " |-- address_3: string (nullable = true)\n",
      " |-- brewery_type: string (nullable = true)\n",
      " |-- city: string (nullable = true)\n",
      " |-- country: string (nullable = true)\n",
      " |-- id: string (nullable = true)\n",
      " |-- latitude: string (nullable = true)\n",
      " |-- longitude: string (nullable = true)\n",
      " |-- name: string (nullable = true)\n",
      " |-- phone: string (nullable = true)\n",
      " |-- postal_code: string (nullable = true)\n",
      " |-- state: string (nullable = true)\n",
      " |-- state_province: string (nullable = true)\n",
      " |-- street: string (nullable = true)\n",
      " |-- website_url: string (nullable = true)\n",
      "\n"
     ]
    }
   ],
   "source": [
    "df.printSchema()"
   ]
  },
  {
   "cell_type": "markdown",
   "metadata": {},
   "source": [
    "# Check if some columns are iqual"
   ]
  },
  {
   "cell_type": "markdown",
   "metadata": {},
   "source": [
    "### street and addrees_1"
   ]
  },
  {
   "cell_type": "code",
   "execution_count": 23,
   "metadata": {},
   "outputs": [
    {
     "name": "stdout",
     "output_type": "stream",
     "text": [
      "+--------------------+--------------------+--------------------+--------------------+---------------+\n",
      "|                  id|                name|              street|           address_1|street_adress_1|\n",
      "+--------------------+--------------------+--------------------+--------------------+---------------+\n",
      "|5128df48-79fc-4f0...|    (405) Brewing Co|      1716 Topeka St|      1716 Topeka St|              1|\n",
      "|9c5a66c8-cc13-416...|    (512) Brewing Co|407 Radam Ln Ste ...|407 Radam Ln Ste ...|              1|\n",
      "|34e8c68b-6146-453...|1 of Us Brewing C...| 8100 Washington Ave| 8100 Washington Ave|              1|\n",
      "|6d14b220-8926-452...|10 Barrel Brewing Co|       62970 18th St|       62970 18th St|              1|\n",
      "|e2e78bd8-80ff-4a6...|10 Barrel Brewing Co|1135 NW Galveston...|1135 NW Galveston...|              1|\n",
      "|e432899b-7f58-455...|10 Barrel Brewing Co| 1411 NW Flanders St| 1411 NW Flanders St|              1|\n",
      "|ef970757-fe42-416...|10 Barrel Brewing Co|           1501 E St|           1501 E St|              1|\n",
      "|9f1852da-c312-42d...|10 Barrel Brewing...|    62950 NE 18th St|    62950 NE 18th St|              1|\n",
      "|ea4f30c0-bce6-416...|10 Barrel Brewing...|    826 W Bannock St|    826 W Bannock St|              1|\n",
      "|1988eb86-f0a2-467...|10 Barrel Brewing...|      2620 Walnut St|      2620 Walnut St|              1|\n",
      "|1ecc330f-6275-42a...|10 Torr Distillin...|         490 Mill St|         490 Mill St|              1|\n",
      "|7531dbd8-afc9-4b5...|10-56 Brewing Com...|       400 Brown Cir|       400 Brown Cir|              1|\n",
      "|5ae467af-66dc-4d7...|101 North Brewing...| 1304 Scott St Ste D| 1304 Scott St Ste D|              1|\n",
      "|4ffda196-dd59-44a...| 105 West Brewing Co|        1043 Park St|        1043 Park St|              1|\n",
      "|42aa37d5-8384-4ff...|         10K Brewing|        2005 2nd Ave|        2005 2nd Ave|              1|\n",
      "|232e8f62-9afc-45f...|10th District Bre...|   491 Washington St|   491 Washington St|              1|\n",
      "|08f78223-24f8-4b7...|11 Below Brewing ...|   6820 Bourgeois Rd|   6820 Bourgeois Rd|              1|\n",
      "|58293321-14ae-49d...|     1188 Brewing Co|       141 E Main St|       141 E Main St|              1|\n",
      "|e5f3e72a-fee2-481...|12 Acres Brewing ...|      Unnamed Street|      Unnamed Street|              1|\n",
      "|d81ff708-b5d2-478...|12 Gates Brewing ...|80 Earhart Dr Ste 20|80 Earhart Dr Ste 20|              1|\n",
      "|fb94830f-6196-4f5...|12 West Brewing C...|3000 E Ray Rd Bldg 6|3000 E Ray Rd Bldg 6|              1|\n",
      "|0faa0fb2-fffa-416...|12 West Brewing C...|                null|                null|              1|\n",
      "|e54c2f02-acd6-417...| 122 West Brewing Co|    2416 Meridian St|    2416 Meridian St|              1|\n",
      "|d5cb896d-3e99-4e1...|         127 Brewing|     3090 Shirley Dr|     3090 Shirley Dr|              1|\n",
      "|06e9fffb-e820-45c...|    12Degree Brewing|         820 Main St|         820 Main St|              1|\n",
      "|50521ef7-f543-4c5...|12welve Eyes Brewing|141 E 4th St Ste LL2|141 E 4th St Ste LL2|              1|\n",
      "|950180bd-29c9-46b...|    13 Below Brewery|      7391 Forbes Rd|      7391 Forbes Rd|              1|\n",
      "|45119c56-345b-4ad...|  13 Stripes Brewery|250 Mill St, Suit...|250 Mill St, Suit...|              1|\n",
      "|936c3d7e-5d54-445...|13 Virtues Brewin...|6410 SE Milwaukie...|6410 SE Milwaukie...|              1|\n",
      "|5c53b314-ebab-4e3...|          1323 R & D|1323 Capital Blvd...|1323 Capital Blvd...|              1|\n",
      "|4788221a-a03b-458...|14 Cannons Brewin...|31125 Via Colinas...|31125 Via Colinas...|              1|\n",
      "|b7b68d22-5045-450...|    14 Lakes Brewery|                null|                null|              1|\n",
      "|4b677b60-fef1-42e...|14er Brewing Company|      2801 Walnut St|      2801 Walnut St|              1|\n",
      "|6c53984f-fac1-4ea...|   14th Star Brewing| 133 N Main St Ste 7| 133 N Main St Ste 7|              1|\n",
      "|85192a9c-58a4-48c...|     16 Lots Brewing|      753 Reading Rd|      753 Reading Rd|              1|\n",
      "|284b44f8-6ccb-4cd...|  16 Mile Brewing Co|    413 S Bedford St|    413 S Bedford St|              1|\n",
      "|ee6d39c6-092f-462...|    16 Stone Brewpub|        9542 Main St|        9542 Main St|              1|\n",
      "|d35b40b0-a3ff-487...|1623 Brewing CO, llc|1146 colonel Josh...|1146 colonel Josh...|              1|\n",
      "|84bd3b3c-bd2d-4e0...|     1717 Brewing Co|     322 E Court Ave|     322 E Court Ave|              1|\n",
      "|f41a0c47-ba9b-454...|1718 Ocracoke Bre...|1129 Irvin Garris...|1129 Irvin Garris...|              1|\n",
      "|84d621c4-81a5-44e...|1781 Brewing Company|      11109 Plank Rd|      11109 Plank Rd|              1|\n",
      "|896f26a1-d80e-479...|      180 and Tapped|    2010 A State Ave|    2010 A State Ave|              1|\n",
      "|46839a79-b7bf-473...|        1817 Brewery|100 B South Olive St|100 B South Olive St|              1|\n",
      "|1a1b2165-73ed-40a...|1840 Brewing Company|       342 E Ward St|       342 E Ward St|              1|\n",
      "|fe6b9893-b93e-43d...|1850 Brewing Company|                null|                null|              1|\n",
      "|b51f3cdf-60ff-4ae...| 18th Street Brewery|     5725 Miller Ave|     5725 Miller Ave|              1|\n",
      "|add7f978-942e-4d5...| 18th Street Brewery|     5417 Oakley Ave|     5417 Oakley Ave|              1|\n",
      "|dbde8235-2b55-4d8...|1905 Brewing Company|  1301 S Chestnut St|  1301 S Chestnut St|              1|\n",
      "|4f4b5b34-d572-4df...|        1912 Brewing|2045 N Forbes Blv...|2045 N Forbes Blv...|              1|\n",
      "|4ccad9b9-f9cf-4d2...|         192 Brewing|    7324 NE 175th St|    7324 NE 175th St|              1|\n",
      "+--------------------+--------------------+--------------------+--------------------+---------------+\n",
      "\n"
     ]
    }
   ],
   "source": [
    "df.select('id','name', 'street', 'address_1')\\\n",
    "    .withColumn('street_adress_1', \n",
    "        when(\n",
    "            (col('street') == col('address_1'))|\n",
    "            (col('street').isNull() & col('address_1').isNull()), 1).otherwise(0))\\\n",
    "    .show(200)"
   ]
  },
  {
   "cell_type": "markdown",
   "metadata": {},
   "source": [
    "### state and state_province"
   ]
  },
  {
   "cell_type": "code",
   "execution_count": 34,
   "metadata": {},
   "outputs": [
    {
     "name": "stdout",
     "output_type": "stream",
     "text": [
      "+--------------------+--------------------+--------------+--------------+--------------------+\n",
      "|                  id|                name|         state|state_province|state_state_province|\n",
      "+--------------------+--------------------+--------------+--------------+--------------------+\n",
      "|5128df48-79fc-4f0...|    (405) Brewing Co|      Oklahoma|      Oklahoma|                   1|\n",
      "|9c5a66c8-cc13-416...|    (512) Brewing Co|         Texas|         Texas|                   1|\n",
      "|34e8c68b-6146-453...|1 of Us Brewing C...|     Wisconsin|     Wisconsin|                   1|\n",
      "|6d14b220-8926-452...|10 Barrel Brewing Co|        Oregon|        Oregon|                   1|\n",
      "|e2e78bd8-80ff-4a6...|10 Barrel Brewing Co|        Oregon|        Oregon|                   1|\n",
      "|e432899b-7f58-455...|10 Barrel Brewing Co|        Oregon|        Oregon|                   1|\n",
      "|ef970757-fe42-416...|10 Barrel Brewing Co|    California|    California|                   1|\n",
      "|9f1852da-c312-42d...|10 Barrel Brewing...|        Oregon|        Oregon|                   1|\n",
      "|ea4f30c0-bce6-416...|10 Barrel Brewing...|         Idaho|         Idaho|                   1|\n",
      "|1988eb86-f0a2-467...|10 Barrel Brewing...|      Colorado|      Colorado|                   1|\n",
      "|1ecc330f-6275-42a...|10 Torr Distillin...|        Nevada|        Nevada|                   1|\n",
      "|7531dbd8-afc9-4b5...|10-56 Brewing Com...|       Indiana|       Indiana|                   1|\n",
      "|5ae467af-66dc-4d7...|101 North Brewing...|    California|    California|                   1|\n",
      "|4ffda196-dd59-44a...| 105 West Brewing Co|      Colorado|      Colorado|                   1|\n",
      "|42aa37d5-8384-4ff...|         10K Brewing|     Minnesota|     Minnesota|                   1|\n",
      "|232e8f62-9afc-45f...|10th District Bre...| Massachusetts| Massachusetts|                   1|\n",
      "|08f78223-24f8-4b7...|11 Below Brewing ...|         Texas|         Texas|                   1|\n",
      "|58293321-14ae-49d...|     1188 Brewing Co|        Oregon|        Oregon|                   1|\n",
      "|e5f3e72a-fee2-481...|12 Acres Brewing ...|         Laois|         Laois|                   1|\n",
      "|d81ff708-b5d2-478...|12 Gates Brewing ...|      New York|      New York|                   1|\n",
      "|fb94830f-6196-4f5...|12 West Brewing C...|       Arizona|       Arizona|                   1|\n",
      "|0faa0fb2-fffa-416...|12 West Brewing C...|       Arizona|       Arizona|                   1|\n",
      "|e54c2f02-acd6-417...| 122 West Brewing Co|    Washington|    Washington|                   1|\n",
      "|d5cb896d-3e99-4e1...|         127 Brewing|      Michigan|      Michigan|                   1|\n",
      "|06e9fffb-e820-45c...|    12Degree Brewing|      Colorado|      Colorado|                   1|\n",
      "|50521ef7-f543-4c5...|12welve Eyes Brewing|     Minnesota|     Minnesota|                   1|\n",
      "|950180bd-29c9-46b...|    13 Below Brewery|          Ohio|          Ohio|                   1|\n",
      "|45119c56-345b-4ad...|  13 Stripes Brewery|South Carolina|South Carolina|                   1|\n",
      "|936c3d7e-5d54-445...|13 Virtues Brewin...|        Oregon|        Oregon|                   1|\n",
      "|5c53b314-ebab-4e3...|          1323 R & D|North Carolina|North Carolina|                   1|\n",
      "|4788221a-a03b-458...|14 Cannons Brewin...|    California|    California|                   1|\n",
      "|b7b68d22-5045-450...|    14 Lakes Brewery|     Minnesota|     Minnesota|                   1|\n",
      "|4b677b60-fef1-42e...|14er Brewing Company|      Colorado|      Colorado|                   1|\n",
      "|6c53984f-fac1-4ea...|   14th Star Brewing|       Vermont|       Vermont|                   1|\n",
      "|85192a9c-58a4-48c...|     16 Lots Brewing|          Ohio|          Ohio|                   1|\n",
      "|284b44f8-6ccb-4cd...|  16 Mile Brewing Co|      Delaware|      Delaware|                   1|\n",
      "|ee6d39c6-092f-462...|    16 Stone Brewpub|      New York|      New York|                   1|\n",
      "|d35b40b0-a3ff-487...|1623 Brewing CO, llc|      Maryland|      Maryland|                   1|\n",
      "|84bd3b3c-bd2d-4e0...|     1717 Brewing Co|          Iowa|          Iowa|                   1|\n",
      "|f41a0c47-ba9b-454...|1718 Ocracoke Bre...|North Carolina|North Carolina|                   1|\n",
      "|84d621c4-81a5-44e...|1781 Brewing Company|      Virginia|      Virginia|                   1|\n",
      "|896f26a1-d80e-479...|      180 and Tapped|  Pennsylvania|  Pennsylvania|                   1|\n",
      "|46839a79-b7bf-473...|        1817 Brewery|   Mississippi|   Mississippi|                   1|\n",
      "|1a1b2165-73ed-40a...|1840 Brewing Company|     Wisconsin|     Wisconsin|                   1|\n",
      "|fe6b9893-b93e-43d...|1850 Brewing Company|    California|    California|                   1|\n",
      "|b51f3cdf-60ff-4ae...| 18th Street Brewery|       Indiana|       Indiana|                   1|\n",
      "|add7f978-942e-4d5...| 18th Street Brewery|       Indiana|       Indiana|                   1|\n",
      "|dbde8235-2b55-4d8...|1905 Brewing Company|      Illinois|      Illinois|                   1|\n",
      "|4f4b5b34-d572-4df...|        1912 Brewing|       Arizona|       Arizona|                   1|\n",
      "|4ccad9b9-f9cf-4d2...|         192 Brewing|    Washington|    Washington|                   1|\n",
      "+--------------------+--------------------+--------------+--------------+--------------------+\n",
      "\n"
     ]
    }
   ],
   "source": [
    "df.select('id','name', 'state', 'state_province')\\\n",
    "    .withColumn('state_state_province', \n",
    "        when(\n",
    "            (col('state') == col('state_province'))|\n",
    "            (col('state').isNull() & col('state_province').isNull()), 1).otherwise(0))\\\n",
    "    .show(200)"
   ]
  },
  {
   "cell_type": "markdown",
   "metadata": {},
   "source": [
    "# New Data Frame with Only the usefull columns and with a more intuitive position columns"
   ]
  },
  {
   "cell_type": "code",
   "execution_count": 37,
   "metadata": {},
   "outputs": [],
   "source": [
    "df_new = df\\\n",
    "    .select('id', 'name', 'country', 'state', 'city', col(\"address_2\").alias(\"village\"),\n",
    "            'postal_code', 'street','latitude', 'longitude','phone','brewery_type','website_url')"
   ]
  },
  {
   "cell_type": "markdown",
   "metadata": {},
   "source": [
    "# Qual o melhor critério de localização para particionar os dados?"
   ]
  },
  {
   "cell_type": "code",
   "execution_count": 42,
   "metadata": {},
   "outputs": [
    {
     "name": "stdout",
     "output_type": "stream",
     "text": [
      "+-------------+-----+\n",
      "|country      |count|\n",
      "+-------------+-----+\n",
      "|United States|49   |\n",
      "|Ireland      |1    |\n",
      "+-------------+-----+\n",
      "\n"
     ]
    }
   ],
   "source": [
    "df_new.groupby('country').count().show(200, False)"
   ]
  },
  {
   "cell_type": "code",
   "execution_count": 43,
   "metadata": {},
   "outputs": [
    {
     "name": "stdout",
     "output_type": "stream",
     "text": [
      "+--------------+-----+\n",
      "|state         |count|\n",
      "+--------------+-----+\n",
      "|Minnesota     |3    |\n",
      "|Ohio          |2    |\n",
      "|Oregon        |6    |\n",
      "|Texas         |2    |\n",
      "|Pennsylvania  |1    |\n",
      "|Vermont       |1    |\n",
      "|Nevada        |1    |\n",
      "|Washington    |2    |\n",
      "|Illinois      |1    |\n",
      "|Oklahoma      |1    |\n",
      "|Delaware      |1    |\n",
      "|Michigan      |1    |\n",
      "|Virginia      |1    |\n",
      "|North Carolina|2    |\n",
      "|Maryland      |1    |\n",
      "|Arizona       |3    |\n",
      "|Iowa          |1    |\n",
      "|Massachusetts |1    |\n",
      "|Mississippi   |1    |\n",
      "|Indiana       |3    |\n",
      "|Idaho         |1    |\n",
      "|South Carolina|1    |\n",
      "|California    |4    |\n",
      "|New York      |2    |\n",
      "|Wisconsin     |2    |\n",
      "|Laois         |1    |\n",
      "|Colorado      |4    |\n",
      "+--------------+-----+\n",
      "\n"
     ]
    }
   ],
   "source": [
    "df_new.groupby('state').count().show(200, False)"
   ]
  },
  {
   "cell_type": "code",
   "execution_count": 47,
   "metadata": {},
   "outputs": [
    {
     "name": "stderr",
     "output_type": "stream",
     "text": [
      "                                                                                "
     ]
    }
   ],
   "source": [
    "df_new.write.partitionBy(\"state\").parquet('data_architecture/silver_data.parquet')"
   ]
  },
  {
   "cell_type": "code",
   "execution_count": 48,
   "metadata": {},
   "outputs": [],
   "source": [
    "#"
   ]
  },
  {
   "cell_type": "code",
   "execution_count": 53,
   "metadata": {},
   "outputs": [],
   "source": [
    "silver_df = spark.read.parquet('data_architecture/silver_data.parquet')\n",
    "aggregated_df = silver_df.groupBy(\"state\", \"brewery_type\").count()\n",
    "golden_df = aggregated_df.withColumnRenamed('count', 'brewery_quantity')"
   ]
  },
  {
   "cell_type": "code",
   "execution_count": 55,
   "metadata": {},
   "outputs": [
    {
     "name": "stdout",
     "output_type": "stream",
     "text": [
      "+--------------+------------+----------------+\n",
      "|         state|brewery_type|brewery_quantity|\n",
      "+--------------+------------+----------------+\n",
      "|          Iowa|       micro|               1|\n",
      "|    California|       micro|               2|\n",
      "|     Minnesota|       micro|               3|\n",
      "|        Oregon|       large|               4|\n",
      "|      Virginia|       micro|               1|\n",
      "|    California|       large|               1|\n",
      "|        Nevada|       micro|               1|\n",
      "|      Colorado|     brewpub|               1|\n",
      "|      Michigan|       micro|               1|\n",
      "|       Vermont|       micro|               1|\n",
      "|         Texas|       micro|               2|\n",
      "|      Delaware|       micro|               1|\n",
      "|         Laois|       micro|               1|\n",
      "|    Washington|      closed|               1|\n",
      "| Massachusetts|       micro|               1|\n",
      "|North Carolina|       micro|               1|\n",
      "|      Colorado|  proprietor|               1|\n",
      "|          Ohio|     brewpub|               1|\n",
      "|       Indiana|       micro|               3|\n",
      "|       Arizona|       micro|               3|\n",
      "+--------------+------------+----------------+\n",
      "only showing top 20 rows\n",
      "\n"
     ]
    }
   ],
   "source": [
    "golden_df.show()"
   ]
  },
  {
   "cell_type": "code",
   "execution_count": null,
   "metadata": {},
   "outputs": [],
   "source": []
  }
 ],
 "metadata": {
  "kernelspec": {
   "display_name": "Python 3 (ipykernel)",
   "language": "python",
   "name": "python3"
  },
  "language_info": {
   "codemirror_mode": {
    "name": "ipython",
    "version": 3
   },
   "file_extension": ".py",
   "mimetype": "text/x-python",
   "name": "python",
   "nbconvert_exporter": "python",
   "pygments_lexer": "ipython3",
   "version": "3.13.2"
  }
 },
 "nbformat": 4,
 "nbformat_minor": 4
}
